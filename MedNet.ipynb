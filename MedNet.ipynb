{
 "cells": [
  {
   "cell_type": "code",
   "execution_count": 1,
   "metadata": {
    "collapsed": true
   },
   "outputs": [],
   "source": [
    "import pandas as pd\n",
    "import numpy as np\n",
    "import tensorflow as tf\n",
    "import tflearn\n",
    "from tflearn.data_utils import to_categorical"
   ]
  },
  {
   "cell_type": "code",
   "execution_count": 2,
   "metadata": {
    "collapsed": false
   },
   "outputs": [
    {
     "data": {
      "text/plain": [
       "'/home/jango/Documents/EmergenTech'"
      ]
     },
     "execution_count": 2,
     "metadata": {},
     "output_type": "execute_result"
    }
   ],
   "source": [
    "import os\n",
    "os.getcwd()"
   ]
  },
  {
   "cell_type": "code",
   "execution_count": 42,
   "metadata": {
    "collapsed": false
   },
   "outputs": [],
   "source": [
    "Exprs = pd.read_csv(\"L1000dataset.csv\")\n",
    "Classes = pd.read_csv(\"Labels.csv\")"
   ]
  },
  {
   "cell_type": "code",
   "execution_count": 24,
   "metadata": {
    "collapsed": false
   },
   "outputs": [
    {
     "data": {
      "text/html": [
       "<div>\n",
       "<table border=\"1\" class=\"dataframe\">\n",
       "  <thead>\n",
       "    <tr style=\"text-align: right;\">\n",
       "      <th></th>\n",
       "      <th>Unnamed: 0</th>\n",
       "      <th>A549_Ubenimex_33387</th>\n",
       "      <th>A549_Lamivudine_34563</th>\n",
       "      <th>A549_Tenofovir_32462</th>\n",
       "      <th>A549_Tenofovir_32659</th>\n",
       "      <th>A549_Indinavir_31762</th>\n",
       "      <th>A549_Zidovudine_34306</th>\n",
       "      <th>A549_Zalcitabine_34734</th>\n",
       "      <th>A549_Stavudine_31777</th>\n",
       "      <th>A549_Stavudine_34737</th>\n",
       "      <th>...</th>\n",
       "      <th>PC3_252916-29-3_46852</th>\n",
       "      <th>PC3_Cerivastatin_46118</th>\n",
       "      <th>PC3_Entacapone_47341</th>\n",
       "      <th>PC3_Cilastatin_46124</th>\n",
       "      <th>PC3_Triacsin_45231</th>\n",
       "      <th>PC3_Radicicol_43903</th>\n",
       "      <th>PC3_Radicicol_43935</th>\n",
       "      <th>PC3_Radicicol_67973</th>\n",
       "      <th>PC3_Radicicol_67994</th>\n",
       "      <th>PC3_Atorvastatin_45069</th>\n",
       "    </tr>\n",
       "  </thead>\n",
       "  <tbody>\n",
       "    <tr>\n",
       "      <th>0</th>\n",
       "      <td>PSME1</td>\n",
       "      <td>-0.71402</td>\n",
       "      <td>-0.261000</td>\n",
       "      <td>-0.233967</td>\n",
       "      <td>-0.20424</td>\n",
       "      <td>0.38660</td>\n",
       "      <td>-0.105767</td>\n",
       "      <td>0.35075</td>\n",
       "      <td>0.38545</td>\n",
       "      <td>-0.19575</td>\n",
       "      <td>...</td>\n",
       "      <td>0.62534</td>\n",
       "      <td>0.229225</td>\n",
       "      <td>0.04358</td>\n",
       "      <td>0.254875</td>\n",
       "      <td>-0.048750</td>\n",
       "      <td>0.499217</td>\n",
       "      <td>0.965312</td>\n",
       "      <td>-1.995680</td>\n",
       "      <td>-0.708744</td>\n",
       "      <td>-0.282367</td>\n",
       "    </tr>\n",
       "    <tr>\n",
       "      <th>1</th>\n",
       "      <td>ATF1</td>\n",
       "      <td>-0.83916</td>\n",
       "      <td>-0.865733</td>\n",
       "      <td>-0.229533</td>\n",
       "      <td>-1.34262</td>\n",
       "      <td>-3.33905</td>\n",
       "      <td>0.147700</td>\n",
       "      <td>-1.40100</td>\n",
       "      <td>-2.80180</td>\n",
       "      <td>0.39535</td>\n",
       "      <td>...</td>\n",
       "      <td>0.30902</td>\n",
       "      <td>-0.310350</td>\n",
       "      <td>1.64042</td>\n",
       "      <td>0.771850</td>\n",
       "      <td>0.659525</td>\n",
       "      <td>0.213408</td>\n",
       "      <td>-0.612675</td>\n",
       "      <td>-0.219567</td>\n",
       "      <td>-1.703590</td>\n",
       "      <td>-0.492350</td>\n",
       "    </tr>\n",
       "    <tr>\n",
       "      <th>2</th>\n",
       "      <td>RHEB</td>\n",
       "      <td>-0.26298</td>\n",
       "      <td>-0.962867</td>\n",
       "      <td>-0.514633</td>\n",
       "      <td>-0.64016</td>\n",
       "      <td>0.43700</td>\n",
       "      <td>0.263433</td>\n",
       "      <td>1.14250</td>\n",
       "      <td>0.41765</td>\n",
       "      <td>-0.26020</td>\n",
       "      <td>...</td>\n",
       "      <td>0.61842</td>\n",
       "      <td>0.304250</td>\n",
       "      <td>0.17078</td>\n",
       "      <td>0.113750</td>\n",
       "      <td>0.313550</td>\n",
       "      <td>0.608542</td>\n",
       "      <td>-0.698775</td>\n",
       "      <td>0.468811</td>\n",
       "      <td>1.272740</td>\n",
       "      <td>0.053400</td>\n",
       "    </tr>\n",
       "    <tr>\n",
       "      <th>3</th>\n",
       "      <td>FOXO3</td>\n",
       "      <td>-0.23738</td>\n",
       "      <td>-0.539067</td>\n",
       "      <td>0.389833</td>\n",
       "      <td>-0.06742</td>\n",
       "      <td>0.05010</td>\n",
       "      <td>0.454067</td>\n",
       "      <td>0.70280</td>\n",
       "      <td>-0.41480</td>\n",
       "      <td>0.89450</td>\n",
       "      <td>...</td>\n",
       "      <td>0.95940</td>\n",
       "      <td>3.096830</td>\n",
       "      <td>0.61976</td>\n",
       "      <td>-0.364675</td>\n",
       "      <td>-0.261175</td>\n",
       "      <td>0.079492</td>\n",
       "      <td>0.709450</td>\n",
       "      <td>-0.376867</td>\n",
       "      <td>1.460910</td>\n",
       "      <td>1.628220</td>\n",
       "    </tr>\n",
       "    <tr>\n",
       "      <th>4</th>\n",
       "      <td>RHOA</td>\n",
       "      <td>-0.06352</td>\n",
       "      <td>0.049533</td>\n",
       "      <td>0.288767</td>\n",
       "      <td>1.40810</td>\n",
       "      <td>0.17155</td>\n",
       "      <td>-0.012300</td>\n",
       "      <td>0.76760</td>\n",
       "      <td>0.69215</td>\n",
       "      <td>0.87440</td>\n",
       "      <td>...</td>\n",
       "      <td>0.60308</td>\n",
       "      <td>4.557550</td>\n",
       "      <td>-0.90880</td>\n",
       "      <td>0.236425</td>\n",
       "      <td>0.179150</td>\n",
       "      <td>-1.182780</td>\n",
       "      <td>0.391937</td>\n",
       "      <td>-1.543410</td>\n",
       "      <td>-0.176822</td>\n",
       "      <td>5.338580</td>\n",
       "    </tr>\n",
       "  </tbody>\n",
       "</table>\n",
       "<p>5 rows × 2347 columns</p>\n",
       "</div>"
      ],
      "text/plain": [
       "  Unnamed: 0  A549_Ubenimex_33387  A549_Lamivudine_34563  \\\n",
       "0      PSME1             -0.71402              -0.261000   \n",
       "1       ATF1             -0.83916              -0.865733   \n",
       "2       RHEB             -0.26298              -0.962867   \n",
       "3      FOXO3             -0.23738              -0.539067   \n",
       "4       RHOA             -0.06352               0.049533   \n",
       "\n",
       "   A549_Tenofovir_32462  A549_Tenofovir_32659  A549_Indinavir_31762  \\\n",
       "0             -0.233967              -0.20424               0.38660   \n",
       "1             -0.229533              -1.34262              -3.33905   \n",
       "2             -0.514633              -0.64016               0.43700   \n",
       "3              0.389833              -0.06742               0.05010   \n",
       "4              0.288767               1.40810               0.17155   \n",
       "\n",
       "   A549_Zidovudine_34306  A549_Zalcitabine_34734  A549_Stavudine_31777  \\\n",
       "0              -0.105767                 0.35075               0.38545   \n",
       "1               0.147700                -1.40100              -2.80180   \n",
       "2               0.263433                 1.14250               0.41765   \n",
       "3               0.454067                 0.70280              -0.41480   \n",
       "4              -0.012300                 0.76760               0.69215   \n",
       "\n",
       "   A549_Stavudine_34737           ...            PC3_252916-29-3_46852  \\\n",
       "0              -0.19575           ...                          0.62534   \n",
       "1               0.39535           ...                          0.30902   \n",
       "2              -0.26020           ...                          0.61842   \n",
       "3               0.89450           ...                          0.95940   \n",
       "4               0.87440           ...                          0.60308   \n",
       "\n",
       "   PC3_Cerivastatin_46118  PC3_Entacapone_47341  PC3_Cilastatin_46124  \\\n",
       "0                0.229225               0.04358              0.254875   \n",
       "1               -0.310350               1.64042              0.771850   \n",
       "2                0.304250               0.17078              0.113750   \n",
       "3                3.096830               0.61976             -0.364675   \n",
       "4                4.557550              -0.90880              0.236425   \n",
       "\n",
       "   PC3_Triacsin_45231  PC3_Radicicol_43903  PC3_Radicicol_43935  \\\n",
       "0           -0.048750             0.499217             0.965312   \n",
       "1            0.659525             0.213408            -0.612675   \n",
       "2            0.313550             0.608542            -0.698775   \n",
       "3           -0.261175             0.079492             0.709450   \n",
       "4            0.179150            -1.182780             0.391937   \n",
       "\n",
       "   PC3_Radicicol_67973  PC3_Radicicol_67994  PC3_Atorvastatin_45069  \n",
       "0            -1.995680            -0.708744               -0.282367  \n",
       "1            -0.219567            -1.703590               -0.492350  \n",
       "2             0.468811             1.272740                0.053400  \n",
       "3            -0.376867             1.460910                1.628220  \n",
       "4            -1.543410            -0.176822                5.338580  \n",
       "\n",
       "[5 rows x 2347 columns]"
      ]
     },
     "execution_count": 24,
     "metadata": {},
     "output_type": "execute_result"
    }
   ],
   "source": [
    "Exprs.head()"
   ]
  },
  {
   "cell_type": "code",
   "execution_count": 21,
   "metadata": {
    "collapsed": false
   },
   "outputs": [],
   "source": [
    "Genes = Exprs.ix[:,0]"
   ]
  },
  {
   "cell_type": "code",
   "execution_count": 36,
   "metadata": {
    "collapsed": false
   },
   "outputs": [],
   "source": [
    "data = Exprs.ix[:,1:].values"
   ]
  },
  {
   "cell_type": "code",
   "execution_count": 48,
   "metadata": {
    "collapsed": false
   },
   "outputs": [],
   "source": [
    "Y = Classes.ix[:,1].values"
   ]
  },
  {
   "cell_type": "code",
   "execution_count": 49,
   "metadata": {
    "collapsed": false
   },
   "outputs": [
    {
     "data": {
      "text/plain": [
       "array([0, 0, 0, ..., 5, 5, 5])"
      ]
     },
     "execution_count": 49,
     "metadata": {},
     "output_type": "execute_result"
    }
   ],
   "source": [
    "Y"
   ]
  },
  {
   "cell_type": "code",
   "execution_count": 50,
   "metadata": {
    "collapsed": false
   },
   "outputs": [
    {
     "data": {
      "text/plain": [
       "2346"
      ]
     },
     "execution_count": 50,
     "metadata": {},
     "output_type": "execute_result"
    }
   ],
   "source": [
    "len(Y)"
   ]
  },
  {
   "cell_type": "code",
   "execution_count": 51,
   "metadata": {
    "collapsed": true
   },
   "outputs": [],
   "source": [
    "records = len(Y)\n",
    "\n",
    "shuffle = np.arange(records)\n",
    "np.random.shuffle(shuffle)\n",
    "test_fraction = 0.9"
   ]
  },
  {
   "cell_type": "code",
   "execution_count": 52,
   "metadata": {
    "collapsed": false
   },
   "outputs": [
    {
     "data": {
      "text/plain": [
       "array([2140, 1322,  383, ..., 1888,  716, 1489])"
      ]
     },
     "execution_count": 52,
     "metadata": {},
     "output_type": "execute_result"
    }
   ],
   "source": [
    "shuffle"
   ]
  },
  {
   "cell_type": "code",
   "execution_count": 54,
   "metadata": {
    "collapsed": false
   },
   "outputs": [],
   "source": [
    "train_split, test_split = shuffle[:int(records*test_fraction)], shuffle[int(records*test_fraction):]"
   ]
  },
  {
   "cell_type": "code",
   "execution_count": 55,
   "metadata": {
    "collapsed": false
   },
   "outputs": [
    {
     "data": {
      "text/plain": [
       "array([2140, 1322,  383, ...,  400, 1394, 1469])"
      ]
     },
     "execution_count": 55,
     "metadata": {},
     "output_type": "execute_result"
    }
   ],
   "source": [
    "train_split"
   ]
  },
  {
   "cell_type": "code",
   "execution_count": 58,
   "metadata": {
    "collapsed": false
   },
   "outputs": [
    {
     "data": {
      "text/plain": [
       "(978, 2346)"
      ]
     },
     "execution_count": 58,
     "metadata": {},
     "output_type": "execute_result"
    }
   ],
   "source": [
    "data.shape"
   ]
  },
  {
   "cell_type": "code",
   "execution_count": 59,
   "metadata": {
    "collapsed": true
   },
   "outputs": [],
   "source": [
    "trainX, trainY = data[:,train_split], to_categorical(Y[train_split], 6)\n",
    "testX, testY = data[:,test_split], to_categorical(Y[test_split], 6)\n",
    "\n",
    "trainX = trainX.T\n",
    "testX = testX.T"
   ]
  },
  {
   "cell_type": "code",
   "execution_count": 69,
   "metadata": {
    "collapsed": false
   },
   "outputs": [
    {
     "data": {
      "text/plain": [
       "(2111, 978)"
      ]
     },
     "execution_count": 69,
     "metadata": {},
     "output_type": "execute_result"
    }
   ],
   "source": [
    "trainX.T.shape"
   ]
  },
  {
   "cell_type": "code",
   "execution_count": 66,
   "metadata": {
    "collapsed": false
   },
   "outputs": [
    {
     "data": {
      "text/plain": [
       "(2111,)"
      ]
     },
     "execution_count": 66,
     "metadata": {},
     "output_type": "execute_result"
    }
   ],
   "source": [
    "trainX[0].shape"
   ]
  },
  {
   "cell_type": "code",
   "execution_count": 65,
   "metadata": {
    "collapsed": false
   },
   "outputs": [
    {
     "data": {
      "text/plain": [
       "(6,)"
      ]
     },
     "execution_count": 65,
     "metadata": {},
     "output_type": "execute_result"
    }
   ],
   "source": [
    "trainY[0].shape"
   ]
  },
  {
   "cell_type": "code",
   "execution_count": 71,
   "metadata": {
    "collapsed": false
   },
   "outputs": [
    {
     "data": {
      "text/plain": [
       "(978,)"
      ]
     },
     "execution_count": 71,
     "metadata": {},
     "output_type": "execute_result"
    }
   ],
   "source": [
    "trainX[0].shape"
   ]
  },
  {
   "cell_type": "markdown",
   "metadata": {},
   "source": [
    "# Building MedNet"
   ]
  },
  {
   "cell_type": "code",
   "execution_count": 226,
   "metadata": {
    "collapsed": true
   },
   "outputs": [],
   "source": [
    "# Network building\n",
    "def build_model():\n",
    "    # This resets all parameters and variables, leave this here\n",
    "    tf.reset_default_graph()\n",
    "    \n",
    "    # Inputs\n",
    "    net = tflearn.input_data([None, 978])\n",
    "\n",
    "    # Hidden layer(s)\n",
    "    h1 = tflearn.fully_connected(net, 200, activation='ReLU')\n",
    "    # net = tflearn.batch_normalization(h1)\n",
    "    net = tflearn.dropout(h1, 0.2)\n",
    "    net = tflearn.fully_connected(net, 45, activation='ReLU')\n",
    "    net = tflearn.dropout(net, 0.9)\n",
    "    net = tflearn.batch_normalization(net)\n",
    "\n",
    "    # Output layer\n",
    "    net = tflearn.fully_connected(net, 6, activation='softmax')\n",
    "    net = tflearn.regression(net, optimizer='sgd', \n",
    "                             learning_rate=0.089, \n",
    "                             loss='categorical_crossentropy')\n",
    "    \n",
    "    model = tflearn.DNN(net)\n",
    "    w = model.get_weights(h1.W)\n",
    "    \n",
    "    return (model, w)"
   ]
  },
  {
   "cell_type": "markdown",
   "metadata": {},
   "source": [
    "### Initializing the model"
   ]
  },
  {
   "cell_type": "code",
   "execution_count": 227,
   "metadata": {
    "collapsed": false
   },
   "outputs": [],
   "source": [
    "model, w = build_model()"
   ]
  },
  {
   "cell_type": "markdown",
   "metadata": {},
   "source": [
    "### Training"
   ]
  },
  {
   "cell_type": "code",
   "execution_count": 228,
   "metadata": {
    "collapsed": false
   },
   "outputs": [
    {
     "name": "stdout",
     "output_type": "stream",
     "text": [
      "Training Step: 239  | total loss: \u001b[1m\u001b[32m1.01791\u001b[0m\u001b[0m | time: 0.156s\n",
      "| SGD | epoch: 008 | loss: 1.01791 - acc: 0.6497 -- iter: 1856/1899\n",
      "Training Step: 240  | total loss: \u001b[1m\u001b[32m1.02277\u001b[0m\u001b[0m | time: 1.164s\n",
      "| SGD | epoch: 008 | loss: 1.02277 - acc: 0.6504 | val_loss: 1.08452 - val_acc: 0.6038 -- iter: 1899/1899\n",
      "--\n"
     ]
    }
   ],
   "source": [
    "# Training\n",
    "model.fit(trainX, trainY, validation_set=0.1, show_metric=True, batch_size=64, n_epoch=8)"
   ]
  },
  {
   "cell_type": "markdown",
   "metadata": {},
   "source": [
    "### Get weights"
   ]
  },
  {
   "cell_type": "code",
   "execution_count": 229,
   "metadata": {
    "collapsed": false
   },
   "outputs": [
    {
     "data": {
      "text/plain": [
       "array([[-0.00157063,  0.00448441, -0.00326898, ..., -0.00430286,\n",
       "         0.0065139 ,  0.0238764 ],\n",
       "       [ 0.02571013, -0.0173589 , -0.02983337, ...,  0.00394139,\n",
       "        -0.03100454,  0.00435774],\n",
       "       [-0.00148692,  0.02766705, -0.0010295 , ..., -0.01611471,\n",
       "        -0.01484044,  0.00320762],\n",
       "       ..., \n",
       "       [-0.00292515,  0.00814916, -0.01456198, ...,  0.0204108 ,\n",
       "        -0.01442776, -0.02361646],\n",
       "       [ 0.02458762,  0.03191415, -0.01981831, ..., -0.02489581,\n",
       "         0.00790949,  0.00753898],\n",
       "       [ 0.02865823,  0.0358302 ,  0.00555496, ...,  0.01518264,\n",
       "        -0.02405457,  0.00930682]], dtype=float32)"
      ]
     },
     "execution_count": 229,
     "metadata": {},
     "output_type": "execute_result"
    }
   ],
   "source": [
    "w"
   ]
  },
  {
   "cell_type": "code",
   "execution_count": 230,
   "metadata": {
    "collapsed": true
   },
   "outputs": [],
   "source": [
    "weights_to_embedd = pd.DataFrame(w)"
   ]
  },
  {
   "cell_type": "code",
   "execution_count": 231,
   "metadata": {
    "collapsed": false
   },
   "outputs": [],
   "source": [
    "weights_to_embedd.to_csv(\"/home/jango/Documents/EmergenTech/Hidden_Layer_1_Weight.csv\", index=False)"
   ]
  }
 ],
 "metadata": {
  "kernelspec": {
   "display_name": "Python 3",
   "language": "python",
   "name": "python3"
  },
  "language_info": {
   "codemirror_mode": {
    "name": "ipython",
    "version": 3
   },
   "file_extension": ".py",
   "mimetype": "text/x-python",
   "name": "python",
   "nbconvert_exporter": "python",
   "pygments_lexer": "ipython3",
   "version": "3.6.0"
  }
 },
 "nbformat": 4,
 "nbformat_minor": 2
}
